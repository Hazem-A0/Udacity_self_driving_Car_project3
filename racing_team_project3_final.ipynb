{
 "cells": [
  {
   "cell_type": "code",
   "execution_count": 16,
   "metadata": {},
   "outputs": [],
   "source": [
    "import torch\n",
    "import torch.nn as nn\n",
    "import torch.nn.functional as F\n",
    "import torch.optim as optim\n",
    "from torch.utils.data import Dataset, DataLoader, TensorDataset\n",
    "from sklearn.model_selection import train_test_split\n",
    "from torchvision import transforms\n",
    "\n",
    "import pandas as pd\n",
    "import numpy as np\n",
    "import matplotlib.pyplot as plt\n",
    "import cv2 \n",
    "import os\n",
    "from PIL import Image"
   ]
  },
  {
   "cell_type": "code",
   "execution_count": 17,
   "metadata": {},
   "outputs": [
    {
     "name": "stdout",
     "output_type": "stream",
     "text": [
      "True\n"
     ]
    }
   ],
   "source": [
    "is_gpu_available = torch.cuda.is_available()\n",
    "print(is_gpu_available)"
   ]
  },
  {
   "cell_type": "markdown",
   "metadata": {},
   "source": [
    "Data preparation \n",
    "\n"
   ]
  },
  {
   "cell_type": "code",
   "execution_count": 18,
   "metadata": {},
   "outputs": [],
   "source": [
    "csv_file_path = r'C:\\Users\\hazem\\OneDrive\\Desktop\\simulator\\simulator-windows-64\\last_final\\driving_log.csv'"
   ]
  },
  {
   "cell_type": "code",
   "execution_count": 19,
   "metadata": {},
   "outputs": [],
   "source": [
    "class CustomDataSet(Dataset):\n",
    "    def __init__(self, csv_file, transform = None):\n",
    "        self.df = pd.read_csv(csv_file)\n",
    "        self.transform = transform\n",
    "\n",
    "    def __len__(self):\n",
    "        return len(self.df)\n",
    "\n",
    "    def __getitem__(self, idx):\n",
    "        images = Image.open(self.df.iloc[idx, 0])\n",
    "\n",
    "        if self.transform:\n",
    "            images =self.transform(images)\n",
    "\n",
    "        steering_angle = self.df.iloc[idx, 3:4].values.astype(float)\n",
    "        throttle = self.df.iloc[idx, 4:5].values.astype(float)\n",
    "\n",
    "        return images, steering_angle, throttle"
   ]
  },
  {
   "cell_type": "code",
   "execution_count": 20,
   "metadata": {},
   "outputs": [],
   "source": [
    "# Inputting image details\n",
    "IMAGE_HEIGHT, IMAGE_WIDTH, IMAGE_CHANNELS = 160, 320, 3\n",
    "INPUT_SHAPE = (IMAGE_HEIGHT, IMAGE_WIDTH, IMAGE_CHANNELS)\n",
    "\n",
    "#Defining image transformations\n",
    "data_transform = transforms.Compose([transforms.Resize((IMAGE_HEIGHT, IMAGE_WIDTH)),\n",
    "                                    transforms.ToTensor(),transforms.Normalize((0.5,0.5,0.5),(0.5,0.5,0.5))])"
   ]
  },
  {
   "cell_type": "code",
   "execution_count": 21,
   "metadata": {},
   "outputs": [],
   "source": [
    "dataset = CustomDataSet(csv_file_path, data_transform)"
   ]
  },
  {
   "cell_type": "code",
   "execution_count": 22,
   "metadata": {},
   "outputs": [],
   "source": [
    "# Split the dataset into training and testing sets\n",
    "train_size = 0.8  \n",
    "test_size = 0.2\n",
    "\n",
    "# Split the dataset into train and test sets\n",
    "train_dataset, test_dataset = train_test_split(dataset, test_size=test_size, random_state=42)\n",
    "\n",
    "# Create data loaders for training and testing\n",
    "train_loader = DataLoader(train_dataset, batch_size=32, shuffle=True)\n",
    "test_loader = DataLoader(test_dataset, batch_size=32, shuffle=False)"
   ]
  },
  {
   "cell_type": "markdown",
   "metadata": {},
   "source": [
    "Model Design\n"
   ]
  },
  {
   "cell_type": "code",
   "execution_count": 23,
   "metadata": {},
   "outputs": [],
   "source": [
    "class SelfDrivingModel(nn.Module):\n",
    "    def __init__(self):\n",
    "        super().__init__()\n",
    "        self.conv1 = nn.Conv2d(3, 24, 5, stride=2) #158*78*24\n",
    "        self.conv2 = nn.Conv2d(24, 36, 5, stride=2) #77*37*36\n",
    "        self.conv3 = nn.Conv2d(36, 48, 5, stride=2) #37*17*48\n",
    "        self.pool = nn.MaxPool2d(2, 2) #18*8*48\n",
    "        self.conv4 = nn.Conv2d(48, 64, 3) #16*6*64\n",
    "        self.conv5 = nn.Conv2d(64, 64, 3) #14*4*64\n",
    "        self.fc1 = nn.Linear(14*4*64, 100)\n",
    "        self.fc2 = nn.Linear(100, 50)\n",
    "        self.fc3 = nn.Linear(50, 10)\n",
    "        self.fc4 = nn.Linear(10, 2)\n",
    "\n",
    "    def forward(self, x):\n",
    "        x = F.relu(self.conv1(x))\n",
    "        x = F.relu(self.conv2(x))\n",
    "        x = F.relu(self.conv3(x))\n",
    "        x = self.pool(x)\n",
    "        x = F.relu(self.conv4(x))\n",
    "        x = F.relu(self.conv5(x))\n",
    "        x = torch.flatten(x, 1)\n",
    "        x = self.fc1(x)\n",
    "        x = self.fc2(x)\n",
    "        x = self.fc3(x)\n",
    "        x = self.fc4(x)\n",
    "        return x"
   ]
  },
  {
   "cell_type": "code",
   "execution_count": 24,
   "metadata": {},
   "outputs": [],
   "source": [
    "#make an instance of the model\n",
    "model = SelfDrivingModel()"
   ]
  },
  {
   "cell_type": "code",
   "execution_count": 25,
   "metadata": {},
   "outputs": [],
   "source": [
    "# Define loss function and optimizer\n",
    "criterion = nn.MSELoss()\n",
    "optimizer = optim.Adam(model.parameters(), lr=0.001)"
   ]
  },
  {
   "cell_type": "code",
   "execution_count": 26,
   "metadata": {},
   "outputs": [
    {
     "data": {
      "text/plain": [
       "SelfDrivingModel(\n",
       "  (conv1): Conv2d(3, 24, kernel_size=(5, 5), stride=(2, 2))\n",
       "  (conv2): Conv2d(24, 36, kernel_size=(5, 5), stride=(2, 2))\n",
       "  (conv3): Conv2d(36, 48, kernel_size=(5, 5), stride=(2, 2))\n",
       "  (pool): MaxPool2d(kernel_size=2, stride=2, padding=0, dilation=1, ceil_mode=False)\n",
       "  (conv4): Conv2d(48, 64, kernel_size=(3, 3), stride=(1, 1))\n",
       "  (conv5): Conv2d(64, 64, kernel_size=(3, 3), stride=(1, 1))\n",
       "  (fc1): Linear(in_features=3584, out_features=100, bias=True)\n",
       "  (fc2): Linear(in_features=100, out_features=50, bias=True)\n",
       "  (fc3): Linear(in_features=50, out_features=10, bias=True)\n",
       "  (fc4): Linear(in_features=10, out_features=2, bias=True)\n",
       ")"
      ]
     },
     "execution_count": 26,
     "metadata": {},
     "output_type": "execute_result"
    }
   ],
   "source": [
    "# Move model to GPU if available\n",
    "device = torch.device('cuda' if torch.cuda.is_available() else 'cpu')\n",
    "model.to(device)\n"
   ]
  },
  {
   "cell_type": "code",
   "execution_count": 27,
   "metadata": {},
   "outputs": [
    {
     "name": "stdout",
     "output_type": "stream",
     "text": [
      "Epoch [1/40] - Train Loss: 0.1183\n",
      "Epoch [2/40] - Train Loss: 0.0766\n",
      "Epoch [3/40] - Train Loss: 0.0673\n",
      "Epoch [4/40] - Train Loss: 0.0470\n",
      "Epoch [5/40] - Train Loss: 0.0410\n",
      "Epoch [6/40] - Train Loss: 0.0390\n",
      "Epoch [7/40] - Train Loss: 0.0374\n",
      "Epoch [8/40] - Train Loss: 0.0356\n",
      "Epoch [9/40] - Train Loss: 0.0349\n",
      "Epoch [10/40] - Train Loss: 0.0333\n",
      "Epoch [11/40] - Train Loss: 0.0302\n",
      "Epoch [12/40] - Train Loss: 0.0280\n",
      "Epoch [13/40] - Train Loss: 0.0259\n",
      "Epoch [14/40] - Train Loss: 0.0249\n",
      "Epoch [15/40] - Train Loss: 0.0215\n",
      "Epoch [16/40] - Train Loss: 0.0201\n",
      "Epoch [17/40] - Train Loss: 0.0189\n",
      "Epoch [18/40] - Train Loss: 0.0167\n",
      "Epoch [19/40] - Train Loss: 0.0153\n",
      "Epoch [20/40] - Train Loss: 0.0148\n",
      "Epoch [21/40] - Train Loss: 0.0136\n",
      "Epoch [22/40] - Train Loss: 0.0127\n",
      "Epoch [23/40] - Train Loss: 0.0110\n",
      "Epoch [24/40] - Train Loss: 0.0095\n",
      "Epoch [25/40] - Train Loss: 0.0084\n",
      "Epoch [26/40] - Train Loss: 0.0070\n",
      "Epoch [27/40] - Train Loss: 0.0067\n",
      "Epoch [28/40] - Train Loss: 0.0058\n",
      "Epoch [29/40] - Train Loss: 0.0051\n",
      "Epoch [30/40] - Train Loss: 0.0049\n",
      "Epoch [31/40] - Train Loss: 0.0044\n",
      "Epoch [32/40] - Train Loss: 0.0039\n",
      "Epoch [33/40] - Train Loss: 0.0039\n",
      "Epoch [34/40] - Train Loss: 0.0038\n",
      "Epoch [35/40] - Train Loss: 0.0038\n",
      "Epoch [36/40] - Train Loss: 0.0033\n",
      "Epoch [37/40] - Train Loss: 0.0033\n",
      "Epoch [38/40] - Train Loss: 0.0033\n",
      "Epoch [39/40] - Train Loss: 0.0034\n",
      "Epoch [40/40] - Train Loss: 0.0035\n"
     ]
    }
   ],
   "source": [
    "train_losses = []\n",
    "# Training loop\n",
    "for epoch in range(40):\n",
    "    train_loss = 0.0\n",
    "\n",
    "    for batch in train_loader:\n",
    "        \n",
    "        images, steering_angle, throttle = batch\n",
    "        images = images.float().to(device)  # Ensure input data is a float tensor\n",
    "        steering_angle = steering_angle.float().to(device)  # Ensure steering_angle is a float tensor\n",
    "        throttle = throttle.float().to(device)  # Ensure throttle is a float tensor \n",
    "\n",
    "        # Zero the parameter gradients\n",
    "        optimizer.zero_grad()\n",
    "        # Forward pass through the model\n",
    "        outputs = model(images)\n",
    "\n",
    "        # Calculate the loss\n",
    "        loss = criterion(outputs, torch.cat((steering_angle, throttle), dim=1).to(torch.float32))\n",
    "\n",
    "        # Backpropagation and optimization\n",
    "        loss.backward()\n",
    "        optimizer.step()\n",
    "\n",
    "        train_loss += loss.item()\n",
    "\n",
    "    # Calculate and print the average training loss for the epoch\n",
    "    avg_train_loss = train_loss / len(train_loader)\n",
    "    train_losses.append(avg_train_loss)\n",
    "    print(f'Epoch [{epoch + 1}/{40}] - Train Loss: {avg_train_loss:.4f}')\n"
   ]
  },
  {
   "cell_type": "code",
   "execution_count": 28,
   "metadata": {},
   "outputs": [
    {
     "data": {
      "image/png": "[encoded data removed]",
      "text/plain": [
       "<Figure size 640x480 with 1 Axes>"
      ]
     },
     "metadata": {},
     "output_type": "display_data"
    }
   ],
   "source": [
    "# Visualize the training loss\n",
    "plt.plot(train_losses, label='Training Loss')\n",
    "plt.xlabel('Epoch')\n",
    "plt.ylabel('Loss')\n",
    "plt.legend()\n",
    "plt.show()"
   ]
  },
  {
   "cell_type": "code",
   "execution_count": 29,
   "metadata": {},
   "outputs": [
    {
     "name": "stdout",
     "output_type": "stream",
     "text": [
      "Average test loss: 0.0345\n"
     ]
    }
   ],
   "source": [
    "model.eval()  # Set model to evaluation mode\n",
    "running_loss = 0.0\n",
    "num_of_batches = 0.0\n",
    "\n",
    "with torch.no_grad():\n",
    "    for i, (images, steering_angle, throttle) in enumerate(test_loader):\n",
    "        # Move images and labels to GPU \n",
    "        images = images.to(device)\n",
    "        steering_angle = steering_angle.to(device)\n",
    "        throttle = throttle.to(device)\n",
    "\n",
    "        # Forward pass through the model\n",
    "        preds = model(images)\n",
    "\n",
    "        # Calculate the loss\n",
    "        loss = criterion(preds, torch.cat((steering_angle, throttle), dim=1).to(torch.float32))\n",
    "\n",
    "        running_loss += loss.item()\n",
    "        num_of_batches += 1\n",
    "        \n",
    "        \n",
    "       \n",
    "\n",
    "# Calculate and return the average test loss\n",
    "avg_test_loss = running_loss / num_of_batches\n",
    "print(f'Average test loss: {avg_test_loss:.4f}')"
   ]
  },
  {
   "cell_type": "code",
   "execution_count": 30,
   "metadata": {},
   "outputs": [],
   "source": [
    "# Save the model\n",
    "torch.save(model, 'adjustedmodel.pth')"
   ]
  }
 ],
 "metadata": {
  "kernelspec": {
   "display_name": "Python 3",
   "language": "python",
   "name": "python3"
  },
  "language_info": {
   "codemirror_mode": {
    "name": "ipython",
    "version": 3
   },
   "file_extension": ".py",
   "mimetype": "text/x-python",
   "name": "python",
   "nbconvert_exporter": "python",
   "pygments_lexer": "ipython3",
   "version": "3.11.4"
  },
  "orig_nbformat": 4
 },
 "nbformat": 4,
 "nbformat_minor": 2
}
